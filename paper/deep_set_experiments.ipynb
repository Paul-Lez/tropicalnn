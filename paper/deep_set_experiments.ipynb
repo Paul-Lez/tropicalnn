{
 "cells": [
  {
   "cell_type": "code",
   "execution_count": 161,
   "metadata": {},
   "outputs": [
    {
     "data": {
      "text/plain": [
       "<torch._C.Generator at 0x76a1b00f48b0>"
      ]
     },
     "execution_count": 161,
     "metadata": {},
     "output_type": "execute_result"
    }
   ],
   "source": [
    "import torch\n",
    "import torch.nn as nn\n",
    "import numpy as np\n",
    "\n",
    "torch.manual_seed(0)"
   ]
  },
  {
   "cell_type": "code",
   "execution_count": 162,
   "metadata": {},
   "outputs": [],
   "source": [
    "class DeepSetNetwork(nn.Module):\n",
    "    def __init__(self, input_dim):\n",
    "        super(DeepSetNetwork, self).__init__()\n",
    "        self.linear1 = nn.Linear(input_dim, input_dim)\n",
    "        self.init_weights()\n",
    "\n",
    "    def init_weights(self):\n",
    "        alpha, gamma = np.random.rand() * 2 - 1, np.random.rand() * 2 - 1\n",
    "        weights = alpha * torch.eye(self.linear1.weight.shape[0]) + gamma * (torch.ones_like(self.linear1.weight))\n",
    "        self.linear1.weight.data = weights\n",
    "        self.linear1.bias.data = torch.zeros_like(self.linear1.bias)\n",
    "\n",
    "    def forward(self, x):\n",
    "        x = self.linear1(x)\n",
    "        x = torch.relu(x)\n",
    "        x = torch.sum(x, dim=1)\n",
    "        return x.view(-1, 1)"
   ]
  },
  {
   "cell_type": "code",
   "execution_count": 163,
   "metadata": {},
   "outputs": [],
   "source": [
    "def sample_from_cube(npoints, ndim, side_length):\n",
    "    vec = np.random.uniform(-side_length, side_length, (npoints, ndim))\n",
    "    return torch.Tensor(vec)\n",
    "\n",
    "def get_jacobians(points, model):\n",
    "    \"\"\"\n",
    "    Compute the Jacobian of the model outputs with respect to its inputs for each input point.\n",
    "    \n",
    "    :param points: A tensor of shape (N, M) containing N points of dimension M.\n",
    "    :param model: A PyTorch model that accepts inputs of shape (N, M) and outputs a tensor of shape (N, 1).\n",
    "    :returns: A tensor of Jacobians of shape (N, M), where each row corresponds to the Jacobian of the model output with respect to the input point.\n",
    "    \"\"\"\n",
    "    points.requires_grad = True\n",
    "    output = model(points)\n",
    "    output.backward(torch.ones_like(output))\n",
    "    jacobians = points.grad\n",
    "    return jacobians\n",
    "\n",
    "def remove_duplicates(array):\n",
    "    return np.unique(array, axis=0)"
   ]
  },
  {
   "cell_type": "code",
   "execution_count": 164,
   "metadata": {},
   "outputs": [],
   "source": [
    "def sort_point_components(tensor):\n",
    "    return torch.sort(tensor, dim=1).values"
   ]
  },
  {
   "cell_type": "code",
   "execution_count": 165,
   "metadata": {},
   "outputs": [],
   "source": [
    "import math\n",
    "\n",
    "def estimate_linear_regions(model, radius, n_points, point_dim):\n",
    "    points = sample_from_cube(npoints=n_points, ndim=point_dim, side_length=radius)\n",
    "    jacobians = get_jacobians(points, model).detach().numpy()\n",
    "    unique_jacobians = remove_duplicates(np.around(jacobians, 10))\n",
    "    return unique_jacobians.shape[0]\n",
    "\n",
    "\n",
    "def estimate_linear_regions_using_fundamental_domain(model, radius, n_points, point_dim):\n",
    "    points = sample_from_cube(npoints=n_points, ndim=point_dim, side_length=radius)\n",
    "    points = sort_point_components(points)\n",
    "    jacobians = get_jacobians(points, model).detach().numpy()\n",
    "    unique_jacobians = remove_duplicates(np.around(jacobians, 10))\n",
    "    total = 0\n",
    "    for jacobian in unique_jacobians:\n",
    "        counts = np.unique(jacobian, return_counts=True)[1]\n",
    "        total += math.factorial(point_dim) / np.prod([math.factorial(count) for count in counts])\n",
    "    return total"
   ]
  },
  {
   "cell_type": "code",
   "execution_count": 166,
   "metadata": {},
   "outputs": [
    {
     "name": "stdout",
     "output_type": "stream",
     "text": [
      "Running experiment with 10 models, 2 input dimension, search radius 5, and 100 points.\n",
      "Model 0\n",
      "Regular: 4, Fundamental domain: 4.0, Ratio: 1.0\n",
      "Model 1\n",
      "Regular: 4, Fundamental domain: 4.0, Ratio: 1.0\n",
      "Model 2\n",
      "Regular: 4, Fundamental domain: 4.0, Ratio: 1.0\n",
      "Model 3\n",
      "Regular: 4, Fundamental domain: 4.0, Ratio: 1.0\n",
      "Model 4\n",
      "Regular: 4, Fundamental domain: 4.0, Ratio: 1.0\n",
      "Model 5\n",
      "Regular: 4, Fundamental domain: 4.0, Ratio: 1.0\n",
      "Model 6\n",
      "Regular: 4, Fundamental domain: 4.0, Ratio: 1.0\n",
      "Model 7\n",
      "Regular: 4, Fundamental domain: 4.0, Ratio: 1.0\n",
      "Model 8\n",
      "Regular: 4, Fundamental domain: 4.0, Ratio: 1.0\n",
      "Model 9\n",
      "Regular: 4, Fundamental domain: 4.0, Ratio: 1.0\n",
      "Average ratio: 1.0\n",
      "Running experiment with 10 models, 3 input dimension, search radius 5, and 1000 points.\n",
      "Model 0\n",
      "Regular: 8, Fundamental domain: 8.0, Ratio: 1.0\n",
      "Model 1\n",
      "Regular: 6, Fundamental domain: 6.0, Ratio: 1.0\n",
      "Model 2\n",
      "Regular: 8, Fundamental domain: 8.0, Ratio: 1.0\n",
      "Model 3\n",
      "Regular: 8, Fundamental domain: 8.0, Ratio: 1.0\n",
      "Model 4\n",
      "Regular: 8, Fundamental domain: 8.0, Ratio: 1.0\n",
      "Model 5\n",
      "Regular: 8, Fundamental domain: 8.0, Ratio: 1.0\n",
      "Model 6\n",
      "Regular: 8, Fundamental domain: 8.0, Ratio: 1.0\n",
      "Model 7\n",
      "Regular: 8, Fundamental domain: 8.0, Ratio: 1.0\n",
      "Model 8\n",
      "Regular: 8, Fundamental domain: 10.0, Ratio: 1.25\n",
      "Model 9\n",
      "Regular: 8, Fundamental domain: 8.0, Ratio: 1.0\n",
      "Average ratio: 1.025\n",
      "Running experiment with 10 models, 4 input dimension, search radius 5, and 10000 points.\n",
      "Model 0\n",
      "Regular: 16, Fundamental domain: 16.0, Ratio: 1.0\n",
      "Model 1\n",
      "Regular: 16, Fundamental domain: 16.0, Ratio: 1.0\n",
      "Model 2\n",
      "Regular: 16, Fundamental domain: 16.0, Ratio: 1.0\n",
      "Model 3\n",
      "Regular: 16, Fundamental domain: 29.0, Ratio: 1.8125\n",
      "Model 4\n",
      "Regular: 16, Fundamental domain: 29.0, Ratio: 1.8125\n",
      "Model 5\n",
      "Regular: 16, Fundamental domain: 19.0, Ratio: 1.1875\n",
      "Model 6\n",
      "Regular: 16, Fundamental domain: 16.0, Ratio: 1.0\n",
      "Model 7\n",
      "Regular: 16, Fundamental domain: 16.0, Ratio: 1.0\n",
      "Model 8\n",
      "Regular: 16, Fundamental domain: 16.0, Ratio: 1.0\n",
      "Model 9\n",
      "Regular: 16, Fundamental domain: 16.0, Ratio: 1.0\n",
      "Average ratio: 1.18125\n",
      "Running experiment with 10 models, 5 input dimension, search radius 5, and 100000 points.\n",
      "Model 0\n",
      "Regular: 32, Fundamental domain: 36.0, Ratio: 1.125\n",
      "Model 1\n",
      "Regular: 32, Fundamental domain: 47.0, Ratio: 1.46875\n",
      "Model 2\n",
      "Regular: 32, Fundamental domain: 32.0, Ratio: 1.0\n",
      "Model 3\n",
      "Regular: 29, Fundamental domain: 12.0, Ratio: 0.41379310344827586\n",
      "Model 4\n",
      "Regular: 32, Fundamental domain: 32.0, Ratio: 1.0\n",
      "Model 5\n",
      "Regular: 32, Fundamental domain: 32.0, Ratio: 1.0\n",
      "Model 6\n",
      "Regular: 32, Fundamental domain: 32.0, Ratio: 1.0\n",
      "Model 7\n",
      "Regular: 32, Fundamental domain: 51.0, Ratio: 1.59375\n",
      "Model 8\n",
      "Regular: 32, Fundamental domain: 77.0, Ratio: 2.40625\n",
      "Model 9\n",
      "Regular: 32, Fundamental domain: 51.0, Ratio: 1.59375\n",
      "Average ratio: 1.2601293103448277\n",
      "Running experiment with 10 models, 6 input dimension, search radius 5, and 1000000 points.\n",
      "Model 0\n",
      "Regular: 64, Fundamental domain: 247.0, Ratio: 3.859375\n",
      "Model 1\n",
      "Regular: 64, Fundamental domain: 64.0, Ratio: 1.0\n",
      "Model 2\n",
      "Regular: 64, Fundamental domain: 147.0, Ratio: 2.296875\n",
      "Model 3\n",
      "Regular: 64, Fundamental domain: 177.0, Ratio: 2.765625\n",
      "Model 4\n",
      "Regular: 64, Fundamental domain: 247.0, Ratio: 3.859375\n",
      "Model 5\n",
      "Regular: 64, Fundamental domain: 182.0, Ratio: 2.84375\n",
      "Model 6\n",
      "Regular: 64, Fundamental domain: 138.0, Ratio: 2.15625\n",
      "Model 7\n",
      "Regular: 64, Fundamental domain: 64.0, Ratio: 1.0\n",
      "Model 8\n",
      "Regular: 64, Fundamental domain: 147.0, Ratio: 2.296875\n",
      "Model 9\n",
      "Regular: 64, Fundamental domain: 64.0, Ratio: 1.0\n",
      "Average ratio: 2.3078125\n"
     ]
    }
   ],
   "source": [
    "import matplotlib.pyplot as plt\n",
    "\n",
    "def run_experiment(num_models, point_dim, search_radius, base_num_points):\n",
    "    num_points_adjusted_for_dimension = base_num_points ** point_dim\n",
    "    print(f\"Running experiment with {num_models} models, {point_dim} input dimension, search radius {search_radius}, and {num_points_adjusted_for_dimension} points.\")\n",
    "    models = [DeepSetNetwork(point_dim) for _ in range(num_models)]\n",
    "    all_ratios = []\n",
    "    for i, model in enumerate(models):\n",
    "        print(f\"Model {i}\")\n",
    "        regular_sampling = estimate_linear_regions(model, search_radius, num_points_adjusted_for_dimension, point_dim)\n",
    "        fundamental_domain_sampling = estimate_linear_regions_using_fundamental_domain(model, search_radius, num_points_adjusted_for_dimension//(math.factorial(point_dim)), point_dim)\n",
    "        ratio = fundamental_domain_sampling / regular_sampling\n",
    "        all_ratios.append(ratio)\n",
    "        print(f\"Regular: {regular_sampling}, Fundamental domain: {fundamental_domain_sampling}, Ratio: {ratio}\")\n",
    "\n",
    "    average_ratio = sum(all_ratios) / num_models\n",
    "    print(f\"Average ratio: {average_ratio}\")\n",
    "\n",
    "    return all_ratios\n",
    "\n",
    "NUM_MODELS = 10\n",
    "point_dim_to_ratios = {}\n",
    "for point_dim in range(2, 7):\n",
    "    point_dim_to_ratios[point_dim] = run_experiment(num_models=NUM_MODELS, point_dim=point_dim, search_radius=5, base_num_points=10)"
   ]
  },
  {
   "cell_type": "code",
   "execution_count": 167,
   "metadata": {},
   "outputs": [
    {
     "name": "stdout",
     "output_type": "stream",
     "text": [
      "Input dimension 2: mean 1.0, variance 0.0\n",
      "Input dimension 3: mean 1.025, variance 0.005625\n",
      "Input dimension 4: mean 1.18125, variance 0.10269531250000001\n",
      "Input dimension 5: mean 1.2601293103448277, variance 0.2584934694560048\n",
      "Input dimension 6: mean 2.3078125, variance 1.0465844726562499\n"
     ]
    },
    {
     "data": {
      "image/png": "[encoded data removed]",
      "text/plain": [
       "<Figure size 640x480 with 1 Axes>"
      ]
     },
     "metadata": {},
     "output_type": "display_data"
    }
   ],
   "source": [
    "for k, v in point_dim_to_ratios.items():\n",
    "    mean = sum(v) / len(v)\n",
    "    variance = sum([(x - mean) ** 2 for x in v]) / len(v)\n",
    "    print(f\"Input dimension {k}: mean {mean}, variance {variance}\")\n",
    "    plt.errorbar(k, mean, yerr=variance**0.5, fmt='o')\n",
    "plt.yticks(np.arange(0, 3.2, 0.2))\n",
    "plt.xticks(range(2, 7))\n",
    "plt.xlabel(\"Input dimension\")\n",
    "plt.ylabel(\"Ratio of linear regions\")\n",
    "plt.show()"
   ]
  }
 ],
 "metadata": {
  "kernelspec": {
   "display_name": "myenv",
   "language": "python",
   "name": "python3"
  },
  "language_info": {
   "codemirror_mode": {
    "name": "ipython",
    "version": 3
   },
   "file_extension": ".py",
   "mimetype": "text/x-python",
   "name": "python",
   "nbconvert_exporter": "python",
   "pygments_lexer": "ipython3",
   "version": "3.10.12"
  }
 },
 "nbformat": 4,
 "nbformat_minor": 2
}
